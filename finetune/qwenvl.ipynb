{
 "cells": [
  {
   "cell_type": "code",
   "execution_count": 1,
   "metadata": {},
   "outputs": [],
   "source": [
    "import subprocess\n",
    "import os\n",
    "\n",
    "result = subprocess.run('bash -c \"source /etc/network_turbo && env | grep proxy\"', shell=True, capture_output=True, text=True)\n",
    "output = result.stdout\n",
    "for line in output.splitlines():\n",
    "    if '=' in line:\n",
    "        var, value = line.split('=', 1)\n",
    "        os.environ[var] = value"
   ]
  },
  {
   "cell_type": "markdown",
   "metadata": {},
   "source": [
    "## Qwen2-VL-finetune"
   ]
  },
  {
   "cell_type": "markdown",
   "metadata": {},
   "source": [
    "### Download model"
   ]
  },
  {
   "cell_type": "code",
   "execution_count": 2,
   "metadata": {},
   "outputs": [],
   "source": [
    "model_id_3b = 'Qwen/Qwen2.5-VL-3B-Instruct-AWQ'\n",
    "model_id_7b = 'Qwen/Qwen2.5-VL-7B-Instruct-AWQ'\n",
    "save_dir_3b = './vl3b/'\n",
    "save_dir_7b = './vl7b/'"
   ]
  },
  {
   "cell_type": "code",
   "execution_count": 3,
   "metadata": {},
   "outputs": [],
   "source": [
    "# !pip install git+https://github.com/huggingface/transformers\n",
    "# !pip install qwen-vl-utils\n",
    "# !pip install openai\n",
    "# !pip install flash-attn --no-build-isolation\n",
    "# !pip install swanlab  # monitor\n",
    "# !swanlab login"
   ]
  },
  {
   "cell_type": "code",
   "execution_count": 2,
   "metadata": {
    "scrolled": true
   },
   "outputs": [
    {
     "name": "stderr",
     "output_type": "stream",
     "text": [
      "/root/miniconda3/lib/python3.12/site-packages/huggingface_hub/file_download.py:834: UserWarning: `local_dir_use_symlinks` parameter is deprecated and will be ignored. The process to download files to a local folder has been updated and do not rely on symlinks anymore. You only need to pass a destination folder as`local_dir`.\n",
      "For more details, check out https://huggingface.co/docs/huggingface_hub/main/en/guides/download#download-files-to-local-folder.\n",
      "  warnings.warn(\n"
     ]
    },
    {
     "data": {
      "application/vnd.jupyter.widget-view+json": {
       "model_id": "0428e95ba76f460abddc93574008e54e",
       "version_major": 2,
       "version_minor": 0
      },
      "text/plain": [
       "Fetching 14 files:   0%|          | 0/14 [00:00<?, ?it/s]"
      ]
     },
     "metadata": {},
     "output_type": "display_data"
    },
    {
     "data": {
      "application/vnd.jupyter.widget-view+json": {
       "model_id": "da70b2f8940e4e5c938c85a0ee4b2cdb",
       "version_major": 2,
       "version_minor": 0
      },
      "text/plain": [
       "chat_template.json:   0%|          | 0.00/1.05k [00:00<?, ?B/s]"
      ]
     },
     "metadata": {},
     "output_type": "display_data"
    },
    {
     "data": {
      "application/vnd.jupyter.widget-view+json": {
       "model_id": "34ca8fe146f0469faf389194a4b8c916",
       "version_major": 2,
       "version_minor": 0
      },
      "text/plain": [
       "generation_config.json:   0%|          | 0.00/249 [00:00<?, ?B/s]"
      ]
     },
     "metadata": {},
     "output_type": "display_data"
    },
    {
     "data": {
      "application/vnd.jupyter.widget-view+json": {
       "model_id": "99228a05d5aa45d3aa864c73fd3c4824",
       "version_major": 2,
       "version_minor": 0
      },
      "text/plain": [
       "config.json:   0%|          | 0.00/1.44k [00:00<?, ?B/s]"
      ]
     },
     "metadata": {},
     "output_type": "display_data"
    },
    {
     "data": {
      "application/vnd.jupyter.widget-view+json": {
       "model_id": "e88b03e5bb2c4f64bc0c19da262570b1",
       "version_major": 2,
       "version_minor": 0
      },
      "text/plain": [
       ".gitattributes:   0%|          | 0.00/1.57k [00:00<?, ?B/s]"
      ]
     },
     "metadata": {},
     "output_type": "display_data"
    },
    {
     "data": {
      "application/vnd.jupyter.widget-view+json": {
       "model_id": "84968c628fe04de99aa1df8014dd44d7",
       "version_major": 2,
       "version_minor": 0
      },
      "text/plain": [
       "LICENSE:   0%|          | 0.00/7.39k [00:00<?, ?B/s]"
      ]
     },
     "metadata": {},
     "output_type": "display_data"
    },
    {
     "data": {
      "application/vnd.jupyter.widget-view+json": {
       "model_id": "a836b3de08084b95abe93f34fab704ad",
       "version_major": 2,
       "version_minor": 0
      },
      "text/plain": [
       "README.md:   0%|          | 0.00/13.4k [00:00<?, ?B/s]"
      ]
     },
     "metadata": {},
     "output_type": "display_data"
    },
    {
     "data": {
      "application/vnd.jupyter.widget-view+json": {
       "model_id": "6a05ca8481e4474c86e09752d8b253ec",
       "version_major": 2,
       "version_minor": 0
      },
      "text/plain": [
       "added_tokens.json:   0%|          | 0.00/605 [00:00<?, ?B/s]"
      ]
     },
     "metadata": {},
     "output_type": "display_data"
    },
    {
     "data": {
      "application/vnd.jupyter.widget-view+json": {
       "model_id": "3d11b0bc3125495b993e14059c343ea5",
       "version_major": 2,
       "version_minor": 0
      },
      "text/plain": [
       "preprocessor_config.json:   0%|          | 0.00/575 [00:00<?, ?B/s]"
      ]
     },
     "metadata": {},
     "output_type": "display_data"
    },
    {
     "data": {
      "application/vnd.jupyter.widget-view+json": {
       "model_id": "e6d9410937cd47749f4ebff00e1e49fc",
       "version_major": 2,
       "version_minor": 0
      },
      "text/plain": [
       "special_tokens_map.json:   0%|          | 0.00/613 [00:00<?, ?B/s]"
      ]
     },
     "metadata": {},
     "output_type": "display_data"
    },
    {
     "data": {
      "application/vnd.jupyter.widget-view+json": {
       "model_id": "c2d062a886624a209d33aa60c208d4d3",
       "version_major": 2,
       "version_minor": 0
      },
      "text/plain": [
       "tokenizer_config.json:   0%|          | 0.00/7.30k [00:00<?, ?B/s]"
      ]
     },
     "metadata": {},
     "output_type": "display_data"
    },
    {
     "data": {
      "application/vnd.jupyter.widget-view+json": {
       "model_id": "1eb8dcd560ad49ab926b9f220decca97",
       "version_major": 2,
       "version_minor": 0
      },
      "text/plain": [
       "vocab.json:   0%|          | 0.00/2.78M [00:00<?, ?B/s]"
      ]
     },
     "metadata": {},
     "output_type": "display_data"
    },
    {
     "data": {
      "application/vnd.jupyter.widget-view+json": {
       "model_id": "984d1c7c56ad4b5e80ccf15f952aba2d",
       "version_major": 2,
       "version_minor": 0
      },
      "text/plain": [
       "model.safetensors:   0%|          | 0.00/3.40G [00:00<?, ?B/s]"
      ]
     },
     "metadata": {},
     "output_type": "display_data"
    },
    {
     "data": {
      "application/vnd.jupyter.widget-view+json": {
       "model_id": "005d7538844c4e6fb18833e82dd12195",
       "version_major": 2,
       "version_minor": 0
      },
      "text/plain": [
       "merges.txt:   0%|          | 0.00/1.67M [00:00<?, ?B/s]"
      ]
     },
     "metadata": {},
     "output_type": "display_data"
    },
    {
     "data": {
      "application/vnd.jupyter.widget-view+json": {
       "model_id": "ecbc97ca38124310a8e74ecd16287f0b",
       "version_major": 2,
       "version_minor": 0
      },
      "text/plain": [
       "tokenizer.json:   0%|          | 0.00/11.4M [00:00<?, ?B/s]"
      ]
     },
     "metadata": {},
     "output_type": "display_data"
    },
    {
     "data": {
      "application/vnd.jupyter.widget-view+json": {
       "model_id": "ea32076f4b344fd299e054a336f2b26e",
       "version_major": 2,
       "version_minor": 0
      },
      "text/plain": [
       "Fetching 16 files:   0%|          | 0/16 [00:00<?, ?it/s]"
      ]
     },
     "metadata": {},
     "output_type": "display_data"
    },
    {
     "data": {
      "application/vnd.jupyter.widget-view+json": {
       "model_id": "ba97e51876664e08900b868608c84f2c",
       "version_major": 2,
       "version_minor": 0
      },
      "text/plain": [
       "added_tokens.json:   0%|          | 0.00/605 [00:00<?, ?B/s]"
      ]
     },
     "metadata": {},
     "output_type": "display_data"
    },
    {
     "data": {
      "application/vnd.jupyter.widget-view+json": {
       "model_id": "6f05431eb66f44e4985b39880629c923",
       "version_major": 2,
       "version_minor": 0
      },
      "text/plain": [
       ".gitattributes:   0%|          | 0.00/1.57k [00:00<?, ?B/s]"
      ]
     },
     "metadata": {},
     "output_type": "display_data"
    },
    {
     "data": {
      "application/vnd.jupyter.widget-view+json": {
       "model_id": "4d114ea508d0451c849df4885be15637",
       "version_major": 2,
       "version_minor": 0
      },
      "text/plain": [
       "chat_template.json:   0%|          | 0.00/1.05k [00:00<?, ?B/s]"
      ]
     },
     "metadata": {},
     "output_type": "display_data"
    },
    {
     "data": {
      "application/vnd.jupyter.widget-view+json": {
       "model_id": "feba96209d9649aebef34705705f42de",
       "version_major": 2,
       "version_minor": 0
      },
      "text/plain": [
       "LICENSE:   0%|          | 0.00/6.95k [00:00<?, ?B/s]"
      ]
     },
     "metadata": {},
     "output_type": "display_data"
    },
    {
     "data": {
      "application/vnd.jupyter.widget-view+json": {
       "model_id": "184cd19831df41f2ae5bf6b6026578e4",
       "version_major": 2,
       "version_minor": 0
      },
      "text/plain": [
       "config.json:   0%|          | 0.00/1.42k [00:00<?, ?B/s]"
      ]
     },
     "metadata": {},
     "output_type": "display_data"
    },
    {
     "data": {
      "application/vnd.jupyter.widget-view+json": {
       "model_id": "1cfc4e53c82a46fdb341a2f214868bf7",
       "version_major": 2,
       "version_minor": 0
      },
      "text/plain": [
       "README.md:   0%|          | 0.00/13.3k [00:00<?, ?B/s]"
      ]
     },
     "metadata": {},
     "output_type": "display_data"
    },
    {
     "data": {
      "application/vnd.jupyter.widget-view+json": {
       "model_id": "d53636f96bbc4411b133558271118143",
       "version_major": 2,
       "version_minor": 0
      },
      "text/plain": [
       "merges.txt:   0%|          | 0.00/1.67M [00:00<?, ?B/s]"
      ]
     },
     "metadata": {},
     "output_type": "display_data"
    },
    {
     "data": {
      "application/vnd.jupyter.widget-view+json": {
       "model_id": "8f8be89acca94e9e9f576ec8f59ba623",
       "version_major": 2,
       "version_minor": 0
      },
      "text/plain": [
       "generation_config.json:   0%|          | 0.00/249 [00:00<?, ?B/s]"
      ]
     },
     "metadata": {},
     "output_type": "display_data"
    },
    {
     "data": {
      "application/vnd.jupyter.widget-view+json": {
       "model_id": "4f5c4b266a1043eb89ba2d89e1cf30a5",
       "version_major": 2,
       "version_minor": 0
      },
      "text/plain": [
       "model-00002-of-00002.safetensors:   0%|          | 0.00/2.94G [00:00<?, ?B/s]"
      ]
     },
     "metadata": {},
     "output_type": "display_data"
    },
    {
     "data": {
      "application/vnd.jupyter.widget-view+json": {
       "model_id": "76c6bc4dad314c7891bd96a7ac7ca3da",
       "version_major": 2,
       "version_minor": 0
      },
      "text/plain": [
       "special_tokens_map.json:   0%|          | 0.00/613 [00:00<?, ?B/s]"
      ]
     },
     "metadata": {},
     "output_type": "display_data"
    },
    {
     "data": {
      "application/vnd.jupyter.widget-view+json": {
       "model_id": "ddaab8bdc8cd45be98f36f5941b39fd6",
       "version_major": 2,
       "version_minor": 0
      },
      "text/plain": [
       "model.safetensors.index.json:   0%|          | 0.00/89.6k [00:00<?, ?B/s]"
      ]
     },
     "metadata": {},
     "output_type": "display_data"
    },
    {
     "data": {
      "application/vnd.jupyter.widget-view+json": {
       "model_id": "adb0cf6ce223472b97d4b97f3136f323",
       "version_major": 2,
       "version_minor": 0
      },
      "text/plain": [
       "model-00001-of-00002.safetensors:   0%|          | 0.00/3.98G [00:00<?, ?B/s]"
      ]
     },
     "metadata": {},
     "output_type": "display_data"
    },
    {
     "data": {
      "application/vnd.jupyter.widget-view+json": {
       "model_id": "8c663960041647deabd6b3fc5e0acdcf",
       "version_major": 2,
       "version_minor": 0
      },
      "text/plain": [
       "tokenizer_config.json:   0%|          | 0.00/7.30k [00:00<?, ?B/s]"
      ]
     },
     "metadata": {},
     "output_type": "display_data"
    },
    {
     "data": {
      "application/vnd.jupyter.widget-view+json": {
       "model_id": "f2dad604869643418f43edeee9a15e2f",
       "version_major": 2,
       "version_minor": 0
      },
      "text/plain": [
       "tokenizer.json:   0%|          | 0.00/11.4M [00:00<?, ?B/s]"
      ]
     },
     "metadata": {},
     "output_type": "display_data"
    },
    {
     "data": {
      "application/vnd.jupyter.widget-view+json": {
       "model_id": "805c68f8ab334ddc9f4eb0b9bec8db89",
       "version_major": 2,
       "version_minor": 0
      },
      "text/plain": [
       "vocab.json:   0%|          | 0.00/2.78M [00:00<?, ?B/s]"
      ]
     },
     "metadata": {},
     "output_type": "display_data"
    },
    {
     "data": {
      "application/vnd.jupyter.widget-view+json": {
       "model_id": "9d244a52e1d140dfb6c110e9d5b7b027",
       "version_major": 2,
       "version_minor": 0
      },
      "text/plain": [
       "preprocessor_config.json:   0%|          | 0.00/575 [00:00<?, ?B/s]"
      ]
     },
     "metadata": {},
     "output_type": "display_data"
    },
    {
     "data": {
      "text/plain": [
       "'/root/autodl-tmp/HOCR/finetune/vl7b'"
      ]
     },
     "execution_count": 2,
     "metadata": {},
     "output_type": "execute_result"
    }
   ],
   "source": [
    "from huggingface_hub import snapshot_download\n",
    "\n",
    "snapshot_download(repo_id='Qwen/Qwen2.5-VL-3B-Instruct-AWQ', local_dir='./vl3b/', local_dir_use_symlinks=False)\n",
    "snapshot_download(repo_id='Qwen/Qwen2.5-VL-7B-Instruct-AWQ', local_dir='./vl7b/', local_dir_use_symlinks=False)"
   ]
  },
  {
   "cell_type": "code",
   "execution_count": 3,
   "metadata": {},
   "outputs": [
    {
     "data": {
      "application/vnd.jupyter.widget-view+json": {
       "model_id": "88217ff9dfca4e93baf07531d3f92897",
       "version_major": 2,
       "version_minor": 0
      },
      "text/plain": [
       "Loading checkpoint shards:   0%|          | 0/2 [00:00<?, ?it/s]"
      ]
     },
     "metadata": {},
     "output_type": "display_data"
    },
    {
     "name": "stderr",
     "output_type": "stream",
     "text": [
      "Using a slow image processor as `use_fast` is unset and a slow processor was saved with this model. `use_fast=True` will be the default behavior in v4.48, even if the model was saved with a slow processor. This will result in minor differences in outputs. You'll still be able to use a slow processor with `use_fast=False`.\n"
     ]
    }
   ],
   "source": [
    "import transformers\n",
    "import torch\n",
    "from transformers import Qwen2_5_VLForConditionalGeneration, AutoProcessor, AutoTokenizer\n",
    "\n",
    "model_7b = Qwen2_5_VLForConditionalGeneration.from_pretrained(\n",
    "    save_dir_7b, torch_dtype=torch.float16, \n",
    "    attn_implementation=\"flash_attention_2\", device_map=\"auto\"\n",
    ")\n",
    "tokenizer = AutoTokenizer.from_pretrained(save_dir_7b, trust_remote=True)\n",
    "processor = AutoProcessor.from_pretrained(save_dir_7b)\n",
    "\n",
    "model_7b.enable_input_require_grads()   # 开启梯度检查点时，要执行该方法"
   ]
  },
  {
   "cell_type": "code",
   "execution_count": 5,
   "metadata": {},
   "outputs": [
    {
     "name": "stdout",
     "output_type": "stream",
     "text": [
      "Qwen2_5_VLForConditionalGeneration(\n",
      "  (visual): Qwen2_5_VisionTransformerPretrainedModel(\n",
      "    (patch_embed): Qwen2_5_VisionPatchEmbed(\n",
      "      (proj): Conv3d(3, 1280, kernel_size=(2, 14, 14), stride=(2, 14, 14), bias=False)\n",
      "    )\n",
      "    (rotary_pos_emb): Qwen2_5_VisionRotaryEmbedding()\n",
      "    (blocks): ModuleList(\n",
      "      (0-31): 32 x Qwen2_5_VLVisionBlock(\n",
      "        (norm1): Qwen2RMSNorm((1280,), eps=1e-06)\n",
      "        (norm2): Qwen2RMSNorm((1280,), eps=1e-06)\n",
      "        (attn): Qwen2_5_VLVisionFlashAttention2(\n",
      "          (qkv): Linear(in_features=1280, out_features=3840, bias=True)\n",
      "          (proj): Linear(in_features=1280, out_features=1280, bias=True)\n",
      "        )\n",
      "        (mlp): Qwen2_5_VLMLP(\n",
      "          (gate_proj): Linear(in_features=1280, out_features=3420, bias=True)\n",
      "          (up_proj): Linear(in_features=1280, out_features=3420, bias=True)\n",
      "          (down_proj): Linear(in_features=3420, out_features=1280, bias=True)\n",
      "          (act_fn): SiLU()\n",
      "        )\n",
      "      )\n",
      "    )\n",
      "    (merger): Qwen2_5_VLPatchMerger(\n",
      "      (ln_q): Qwen2RMSNorm((1280,), eps=1e-06)\n",
      "      (mlp): Sequential(\n",
      "        (0): Linear(in_features=5120, out_features=5120, bias=True)\n",
      "        (1): GELU(approximate='none')\n",
      "        (2): Linear(in_features=5120, out_features=3584, bias=True)\n",
      "      )\n",
      "    )\n",
      "  )\n",
      "  (model): Qwen2_5_VLModel(\n",
      "    (embed_tokens): Embedding(152064, 3584)\n",
      "    (layers): ModuleList(\n",
      "      (0-27): 28 x Qwen2_5_VLDecoderLayer(\n",
      "        (self_attn): Qwen2_5_VLFlashAttention2(\n",
      "          (q_proj): WQLinear_GEMM(in_features=3584, out_features=3584, bias=True, w_bit=4, group_size=128)\n",
      "          (k_proj): WQLinear_GEMM(in_features=3584, out_features=512, bias=True, w_bit=4, group_size=128)\n",
      "          (v_proj): WQLinear_GEMM(in_features=3584, out_features=512, bias=True, w_bit=4, group_size=128)\n",
      "          (o_proj): WQLinear_GEMM(in_features=3584, out_features=3584, bias=False, w_bit=4, group_size=128)\n",
      "          (rotary_emb): Qwen2_5_VLRotaryEmbedding()\n",
      "        )\n",
      "        (mlp): Qwen2MLP(\n",
      "          (gate_proj): WQLinear_GEMM(in_features=3584, out_features=18944, bias=False, w_bit=4, group_size=128)\n",
      "          (up_proj): WQLinear_GEMM(in_features=3584, out_features=18944, bias=False, w_bit=4, group_size=128)\n",
      "          (down_proj): WQLinear_GEMM(in_features=18944, out_features=3584, bias=False, w_bit=4, group_size=128)\n",
      "          (act_fn): SiLU()\n",
      "        )\n",
      "        (input_layernorm): Qwen2RMSNorm((3584,), eps=1e-06)\n",
      "        (post_attention_layernorm): Qwen2RMSNorm((3584,), eps=1e-06)\n",
      "      )\n",
      "    )\n",
      "    (norm): Qwen2RMSNorm((3584,), eps=1e-06)\n",
      "    (rotary_emb): Qwen2_5_VLRotaryEmbedding()\n",
      "  )\n",
      "  (lm_head): Linear(in_features=3584, out_features=152064, bias=False)\n",
      ")\n"
     ]
    }
   ],
   "source": [
    "print(model_7b)"
   ]
  },
  {
   "cell_type": "code",
   "execution_count": 2,
   "metadata": {},
   "outputs": [],
   "source": [
    "from qwen_vl_utils import process_vision_info\n",
    "\n",
    "def preprocess_func(example):\n",
    "    MAX_LENGTH = 8192\n",
    "    input_ids, attention_mask, labels = [], [], []\n",
    "    url = example[\"message\"][0][\"conversation\"][0]['url']\n",
    "    caption = example[\"message\"][0][\"conversation\"][1]['caption']\n",
    "    \n",
    "    messages = [\n",
    "        {\n",
    "            \"role\": \"system\", \n",
    "            \"content\": \"You are a helpful assistant in recognize math equations in either handwritten or printed text.\"\n",
    "        },\n",
    "        {\n",
    "            \"role\": \"user\",\n",
    "            \"content\": [\n",
    "                {\n",
    "                    \"type\": \"text\",\n",
    "                    \"text\": \"Recognize the equation in the image, write its LaTeX code bettwen $$\\t and \\t$$\"\n",
    "                },\n",
    "                {\n",
    "                    \"type\": \"image\",\n",
    "                    \"image\": url,\n",
    "                    \"resized_height\": 280,\n",
    "                    \"resized_width\": 280,\n",
    "                },\n",
    "            ]\n",
    "        },\n",
    "        {\n",
    "            \"role\": \"assistant\",\n",
    "            \"content\": [\n",
    "                {\n",
    "                    \"type\": \"text\",\n",
    "                    \"text\": caption\n",
    "                }\n",
    "            ]\n",
    "        }\n",
    "    ]\n",
    "\n",
    "    text = processor.apply_chat_template(\n",
    "        messages, tokenize=False, add_generation_prompt=True\n",
    "    )\n",
    "    img_inputs, _ = process_vision_info(messages)\n",
    "    inputs = processor(\n",
    "        text=[text],\n",
    "        images=img_inputs,\n",
    "        padding=True,\n",
    "        return_tensors='pt'\n",
    "    )\n",
    "    inputs = {key: value.tolist() for key, value in inputs.items()}\n",
    "    instruction = inputs\n",
    "    response = tokenizer(f'{caption}', add_special_tokens=False)\n",
    "    input_ids = (\n",
    "        instruction[\"input_ids\"][0] + response['input_ids'] + [tokenizer.pad_token_id]\n",
    "    )\n",
    "    attention_mask = instruction['attention_mask'][0] + response['attention_mask'] + [1]\n",
    "    labels = (\n",
    "        [-100] * len(instruction['input_ids'][0])\n",
    "        + response['input_ids']\n",
    "        + [tokenizer.pad_token_id]\n",
    "    )\n",
    "\n",
    "    if len(input_ids) > MAX_LENGTH:\n",
    "        input_ids = input_ids[:MAX_LENGTH]\n",
    "        attention_mask = attention_mask[:MAX_LENGTH]\n",
    "        labels = labels[:MAX_LENGTH]\n",
    "    \n",
    "    input_ids = torch.tensor(input_ids)\n",
    "    attention_mask = torch.tensor(attention_mask)\n",
    "    labels = torch.tensor(labels)\n",
    "\n",
    "    inputs['pixel_values'] = torch.tensor(inputs['pixel_values'])\n",
    "    # 由 (1, h, w) 变换为 (h, w)\n",
    "    inputs['image_grid_thw'] = torch.tensor(inputs['image_grid_thw']).squeeze(0)  \n",
    "    return {\n",
    "        \"input_ids\": input_ids, \n",
    "        \"attention_mask\": attention_mask, \n",
    "        \"labels\": labels,\n",
    "        \"pixel_values\": inputs['pixel_values'], \n",
    "        \"image_grid_thw\": inputs['image_grid_thw']\n",
    "    }"
   ]
  },
  {
   "cell_type": "code",
   "execution_count": 5,
   "metadata": {},
   "outputs": [],
   "source": [
    "\"\"\" 数据集准备 \"\"\"\n",
    "import json\n",
    "import random\n",
    "from datasets import Dataset\n",
    "\n",
    "dataset = './ft_data.json'\n",
    "with open(dataset, 'r') as f:\n",
    "    data = json.load(f)\n",
    "\n",
    "# 设置 seed\n",
    "random.seed(5525)\n",
    "# shuffle \n",
    "random.shuffle(data)\n",
    "\n",
    "train_set, test_set = data[:1080], data[1080:]\n",
    "\n",
    "with open(\"ft_data_train.json\", \"w\") as f:\n",
    "    json.dump(train_set, f)\n",
    "\n",
    "with open(\"ft_data_test.json\", \"w\") as f:\n",
    "    json.dump(test_set, f)"
   ]
  },
  {
   "cell_type": "code",
   "execution_count": 6,
   "metadata": {},
   "outputs": [
    {
     "data": {
      "application/vnd.jupyter.widget-view+json": {
       "model_id": "9a1ff1b34e2f43418afd2a7fdce0e6ab",
       "version_major": 2,
       "version_minor": 0
      },
      "text/plain": [
       "Generating train split: 0 examples [00:00, ? examples/s]"
      ]
     },
     "metadata": {},
     "output_type": "display_data"
    },
    {
     "data": {
      "application/vnd.jupyter.widget-view+json": {
       "model_id": "2fd6eb859f5a4033875b04619730793a",
       "version_major": 2,
       "version_minor": 0
      },
      "text/plain": [
       "Map:   0%|          | 0/1080 [00:00<?, ? examples/s]"
      ]
     },
     "metadata": {},
     "output_type": "display_data"
    },
    {
     "name": "stdout",
     "output_type": "stream",
     "text": [
      "Dataset({\n",
      "    features: ['message', 'input_ids', 'attention_mask', 'labels', 'pixel_values', 'image_grid_thw'],\n",
      "    num_rows: 1080\n",
      "})\n"
     ]
    }
   ],
   "source": [
    "train_data = Dataset.from_json('ft_data_train.json')\n",
    "train_data = train_data.map(preprocess_func)\n",
    "print(train_data)"
   ]
  },
  {
   "cell_type": "code",
   "execution_count": 7,
   "metadata": {},
   "outputs": [],
   "source": [
    "from peft import LoraConfig, TaskType, get_peft_model, PeftModel\n",
    "\n",
    "# 配置LoRA\n",
    "config = LoraConfig(\n",
    "    task_type=TaskType.CAUSAL_LM,\n",
    "    target_modules=[\"q_proj\", \"k_proj\", \"v_proj\", \"o_proj\", \"gate_proj\", \"up_proj\", \"down_proj\"],\n",
    "    inference_mode=False,  # 训练模式\n",
    "    r=64,  # Lora 秩\n",
    "    lora_alpha=16,\n",
    "    lora_dropout=0.05,  # Dropout 比例\n",
    "    bias=\"none\",\n",
    ")\n",
    "\n",
    "# 获取LoRA模型\n",
    "peft_model_7b = get_peft_model(model_7b, config)"
   ]
  },
  {
   "cell_type": "code",
   "execution_count": 8,
   "metadata": {},
   "outputs": [],
   "source": [
    "from transformers import (\n",
    "    TrainingArguments,\n",
    "    Trainer,\n",
    "    DataCollatorForSeq2Seq,\n",
    "    Qwen2VLForConditionalGeneration,\n",
    "    AutoProcessor,\n",
    ")\n",
    "\n",
    "# 配置训练参数\n",
    "args = TrainingArguments(\n",
    "    output_dir=\"./output/Qwen2.5-VL-7B\",\n",
    "    per_device_train_batch_size=4,\n",
    "    gradient_accumulation_steps=4,\n",
    "    logging_steps=10,\n",
    "    logging_first_step=5,\n",
    "    num_train_epochs=2,\n",
    "    save_steps=100,\n",
    "    learning_rate=1e-4,\n",
    "    save_on_each_node=True,\n",
    "    gradient_checkpointing=True,\n",
    "    report_to=\"none\",\n",
    ")"
   ]
  },
  {
   "cell_type": "code",
   "execution_count": 9,
   "metadata": {},
   "outputs": [],
   "source": [
    "import swanlab\n",
    "from swanlab.integration.transformers import SwanLabCallback\n",
    "\n",
    "# 设置SwanLab回调\n",
    "swanlab_callback = SwanLabCallback(\n",
    "    project=\"Qwen2.5-VL-7b-finetune\",\n",
    "    experiment_name=\"qwen2.5-vl-crohme2019\",\n",
    "    config={\n",
    "        \"model\": \"https://huggingface.co/Qwen/Qwen2.5-VL-7B-Instruct-AWQ\",\n",
    "        \"dataset\": \"https://disk.pku.edu.cn/anyshare/en-us/link/AAF10CCC4D539543F68847A9010C607139?_tb=none&expires_at=1970-01-01T08%3A00%3A00%2B08%3A00&item_type=&password_required=false&title=HMER%20Dataset&type=anonymous\",\n",
    "        \"github\": \"https://github.com/Wooonster/HOCR\",\n",
    "        \"prompt\": \"https://github.com/Wooonster/HOCR\",\n",
    "        \"train_data_number\": len(train_data),\n",
    "        \"lora_rank\": 64,\n",
    "        \"lora_alpha\": 16,\n",
    "        \"lora_dropout\": 0.1,\n",
    "    },\n",
    ")"
   ]
  },
  {
   "cell_type": "code",
   "execution_count": 10,
   "metadata": {},
   "outputs": [
    {
     "name": "stderr",
     "output_type": "stream",
     "text": [
      "No label_names provided for model class `PeftModelForCausalLM`. Since `PeftModel` hides base models input arguments, if label_names is not given, label_names can't be set automatically within `Trainer`. Note that empty label_names list will be used instead.\n"
     ]
    },
    {
     "name": "stdout",
     "output_type": "stream",
     "text": [
      "\u001b[1m\u001b[34mswanlab\u001b[0m\u001b[0m: Using SwanLab to track your experiments. Please refer to \u001b[33mhttps://docs.swanlab.cn\u001b[0m for more information.\n",
      "\u001b[1m\u001b[34mswanlab\u001b[0m\u001b[0m: (1) Create a SwanLab account.\n",
      "\u001b[1m\u001b[34mswanlab\u001b[0m\u001b[0m: (2) Use an existing SwanLab account.\n",
      "\u001b[1m\u001b[34mswanlab\u001b[0m\u001b[0m: (3) Don't visualize my results.\n"
     ]
    },
    {
     "name": "stdout",
     "output_type": "stream",
     "text": [
      "\u001b[1m\u001b[34mswanlab\u001b[0m\u001b[0m: Enter your choice:  2\n"
     ]
    },
    {
     "name": "stdout",
     "output_type": "stream",
     "text": [
      "\u001b[1m\u001b[34mswanlab\u001b[0m\u001b[0m: You chose 'Use an existing swanlab account'\n",
      "\u001b[1m\u001b[34mswanlab\u001b[0m\u001b[0m: Logging into \u001b[33mhttps://swanlab.cn\u001b[0m\n",
      "\u001b[1m\u001b[34mswanlab\u001b[0m\u001b[0m: You can find your API key at: \u001b[33mhttps://swanlab.cn/space/~/settings\u001b[0m\n",
      "\u001b[1m\u001b[34mswanlab\u001b[0m\u001b[0m: Paste an API key from your profile and hit enter, or press 'CTRL + C' to quit: \n"
     ]
    },
    {
     "name": "stdout",
     "output_type": "stream",
     "text": [
      " ········\n"
     ]
    },
    {
     "name": "stdout",
     "output_type": "stream",
     "text": [
      "\u001b[1m\u001b[34mswanlab\u001b[0m\u001b[0m: Tracking run with swanlab version 0.4.8                                   \n",
      "\u001b[1m\u001b[34mswanlab\u001b[0m\u001b[0m: Run data will be saved locally in \u001b[35m\u001b[1m/root/autodl-tmp/HOCR/finetune/swanlog/run-20250302_130228-a3b1799d\u001b[0m\u001b[0m\n",
      "\u001b[1m\u001b[34mswanlab\u001b[0m\u001b[0m: 👋 Hi \u001b[1m\u001b[39mWonster\u001b[0m\u001b[0m, welcome to swanlab!\n",
      "\u001b[1m\u001b[34mswanlab\u001b[0m\u001b[0m: Syncing run \u001b[33mqwen2.5-vl-crohme2019\u001b[0m to the cloud\n",
      "\u001b[1m\u001b[34mswanlab\u001b[0m\u001b[0m: 🌟 Run `\u001b[1mswanlab watch /root/autodl-tmp/HOCR/finetune/swanlog\u001b[0m` to view SwanLab Experiment Dashboard locally\n",
      "\u001b[1m\u001b[34mswanlab\u001b[0m\u001b[0m: 🏠 View project at \u001b[34m\u001b[4mhttps://swanlab.cn/@Wonster/Qwen2.5-VL-7b-finetune\u001b[0m\u001b[0m\n",
      "\u001b[1m\u001b[34mswanlab\u001b[0m\u001b[0m: 🚀 View run at \u001b[34m\u001b[4mhttps://swanlab.cn/@Wonster/Qwen2.5-VL-7b-finetune/runs/1jxoubmr2r64w1ax2usme\u001b[0m\u001b[0m\n"
     ]
    },
    {
     "data": {
      "text/html": [
       "\n",
       "<!DOCTYPE html>\n",
       "<html lang=\"en\">\n",
       "<head>\n",
       "    <meta charset=\"UTF-8\">\n",
       "    <meta name=\"viewport\" content=\"width=device-width, initial-scale=1.0\">\n",
       "    <title>Show Iframe</title>\n",
       "    \n",
       "        <script>\n",
       "            function showIframe() {\n",
       "                var iframeHtml = '<iframe src=\"https://swanlab.cn/@Wonster/Qwen2.5-VL-7b-finetune/runs/1jxoubmr2r64w1ax2usme\" width=100% height=\"600\" frameborder=\"no\"></iframe>';\n",
       "                document.getElementById('iframeContainer').innerHTML = iframeHtml;\n",
       "            }\n",
       "        </script>\n",
       "        \n",
       "</head>\n",
       "<body>\n",
       "    <style>\n",
       "        .interactive-button {\n",
       "            display: flex;\n",
       "            align-items: center;\n",
       "            height: 36px;\n",
       "            border: 0px;\n",
       "            background-color: #2c8f63;\n",
       "            color: white;\n",
       "            padding: 10px 20px;\n",
       "            transition: background-color 0.3s, transform 0.2s;\n",
       "        }\n",
       "\n",
       "        .interactive-button:hover {\n",
       "            background-color: #5cab87;\n",
       "            cursor: pointer;\n",
       "        }\n",
       "\n",
       "        .interactive-button:active { background-color: #217952; transform: scale(0.96); } </style> <br> <button \n",
       "        onclick=\"showIframe()\" class=\"interactive-button\"> <svg style=\"height: 16px; margin-right: 8px;\" viewBox=\"0 0 \n",
       "        46 46\" fill=\"none\"> <path d=\"M10.8439 21.1974C10.6414 21.2854 10.4477 21.3925 10.2655 21.5173L10.2069 \n",
       "        21.5652C10.1839 21.58 10.1625 21.5969 10.1429 21.6159C6.29135 24.6118 4.22831 29.4416 5.32646 34.282C5.94656 \n",
       "        37.0577 7.50461 39.5348 9.73801 41.2958C11.9714 43.0568 14.7436 43.994 17.5874 43.9495H18.0219C19.8864 \n",
       "        43.8697 21.7087 43.3694 23.3526 42.486C24.9964 41.6026 26.4193 40.3589 27.5147 38.848C28.61 37.3371 29.3496 \n",
       "        35.598 29.678 33.761C30.0065 31.9239 29.9153 30.0363 29.4112 28.2395C28.9181 26.4723 27.8919 24.8437 26.9937 \n",
       "        23.2551C25.4158 20.4653 23.8343 17.6764 22.2492 14.8884C21.7801 14.0647 21.3057 13.2465 20.8419 \n",
       "        12.4228C20.2315 11.3353 19.2746 10.1519 19.224 8.86183C19.1733 7.57176 20.2235 6.32701 21.5082 \n",
       "        6.07912C23.9284 5.61801 25.0639 8.24078 25.0693 8.23812C25.363 8.94035 25.9123 9.50489 26.6063 \n",
       "        9.81764C27.3002 10.1304 28.087 10.168 28.8077 9.92298C29.5283 9.67791 30.1291 9.1684 30.4885 8.49743C30.8479 \n",
       "        7.82646 30.9392 7.04405 30.7439 6.30835C30.1514 4.37314 28.9133 2.69953 27.2363 1.56656C25.7615 0.511704 \n",
       "        23.9847 -0.0372109 22.1719 0.00195984C20.9049 0.00893199 19.6532 0.27989 18.4967 0.797557C17.3402 1.31522 \n",
       "        16.3043 2.06823 15.4551 3.00856C14.49 4.08707 13.7984 5.38193 13.4389 6.78385C13.0794 8.18576 13.0624 9.6536 \n",
       "        13.3894 11.0635C13.52 11.593 13.6984 12.1095 13.9225 12.6067C14.5595 14.0514 15.4951 15.3681 16.284 \n",
       "        16.7355C17.2525 18.4147 18.2209 20.0948 19.1893 21.7758C20.1578 23.4568 21.1351 25.1449 22.1213 \n",
       "        26.8401C22.9209 28.2421 23.7925 29.4682 23.8805 31.1528C23.9175 32.0513 23.7682 32.9479 23.4419 \n",
       "        33.7859C23.1156 34.6239 22.6194 35.3854 21.9845 36.0223C21.3496 36.6592 20.5897 37.1578 19.7527 \n",
       "        37.4868C18.9157 37.8157 18.0196 37.9678 17.121 37.9336C14.0024 37.7923 11.6488 35.4814 11.1744 32.4588C10.58 \n",
       "        28.6419 13.552 26.5469 13.552 26.5469C14.1782 26.1785 14.6497 25.5955 14.8791 24.906C15.1084 24.2166 15.0801 \n",
       "        23.4673 14.7993 22.7971C14.5186 22.127 14.0044 21.5813 13.3521 21.2611C12.6998 20.941 11.9536 20.8682 11.2517 \n",
       "        21.0561C11.1174 21.0939 10.9856 21.1402 10.8572 21.1947\" fill=\"white\" /> <path d=\"M42.8101 31.5968C42.8109 \n",
       "        30.5198 42.7218 29.4445 42.5435 28.3823C42.2663 26.7069 41.7464 25.0808 41.0002 23.5552C40.5524 22.6463 \n",
       "        39.9874 21.7374 39.1024 21.2417C38.6593 20.9919 38.1589 20.8617 37.6502 20.8639C37.1416 20.8661 36.6423 \n",
       "        21.0006 36.2013 21.2541C35.7604 21.5077 35.393 21.8716 35.1352 22.3101C34.8775 22.7485 34.7382 23.2466 \n",
       "        34.7312 23.7552C34.7072 24.8773 35.3149 25.8875 35.768 26.9217C36.5212 28.6453 36.8623 30.5208 36.7642 \n",
       "        32.3993C36.6661 34.2777 36.1315 36.1075 35.2029 37.7433C35.146 37.8404 35.0952 37.941 35.051 38.0445C34.8623 \n",
       "        38.4842 34.7635 38.9573 34.7605 39.4358C34.7802 40.1222 35.0356 40.7808 35.4835 41.3011C35.9315 41.8214 \n",
       "        36.5449 42.1717 37.2207 42.2932C38.8759 42.589 40.1899 41.347 40.8856 39.9609C42.1643 37.3589 42.823 34.4961 \n",
       "        42.8101 31.5968Z\" fill=\"white\" /> <path d=\"M28.2309 11.8938C28.1761 11.9043 28.1218 11.9176 28.0683 \n",
       "        11.9338C27.9593 11.9642 27.8611 12.0249 27.7851 12.1088C27.7091 12.1928 27.6584 12.2965 27.6389 \n",
       "        12.408C27.6193 12.5195 27.6318 12.6343 27.6748 12.7391C27.7178 12.8438 27.7895 12.9343 27.8818 \n",
       "        12.9999C29.2375 14.0252 30.3809 15.3043 31.2482 16.7662C31.4838 17.1677 31.6888 17.5865 31.8612 \n",
       "        18.0189C32.0052 18.3921 32.1971 18.8799 32.6822 18.8532C33.0607 18.8346 33.2153 18.512 33.3192 \n",
       "        18.1895C33.8137 16.5125 33.9678 14.7534 33.7723 13.0159C33.6331 12.0693 33.4155 11.1359 33.122 \n",
       "        10.2252C33.0775 10.0047 32.9744 9.80029 32.8235 9.6335C32.7273 9.54627 32.6054 9.49262 32.4761 9.4806C32.3468 \n",
       "        9.46859 32.2171 9.49886 32.1065 9.56687C32.0016 9.65188 31.9115 9.75365 31.8399 9.86806C31.3956 10.4658 \n",
       "        30.825 10.9581 30.1687 11.3101C29.8377 11.4861 29.4893 11.6272 29.1292 11.7312C28.828 11.8192 28.5215 11.8325 \n",
       "        28.2309 11.8938Z\" fill=\"white\" /> </svg> Display SwanLab Board </button> <br> <div \n",
       "        id=\"iframeContainer\"></div> </body> </html>"
      ],
      "text/plain": [
       "<IPython.core.display.HTML object>"
      ]
     },
     "metadata": {},
     "output_type": "display_data"
    },
    {
     "name": "stderr",
     "output_type": "stream",
     "text": [
      "/root/miniconda3/lib/python3.12/site-packages/torch/nn/modules/conv.py:605: UserWarning: Plan failed with a cudnnException: CUDNN_BACKEND_EXECUTION_PLAN_DESCRIPTOR: cudnnFinalize Descriptor Failed cudnn_status: CUDNN_STATUS_NOT_SUPPORTED (Triggered internally at ../aten/src/ATen/native/cudnn/Conv_v8.cpp:919.)\n",
      "  return F.conv3d(\n",
      "/root/miniconda3/lib/python3.12/site-packages/torch/utils/checkpoint.py:91: UserWarning: None of the inputs have requires_grad=True. Gradients will be None\n",
      "  warnings.warn(\n",
      "/root/miniconda3/lib/python3.12/site-packages/torch/utils/checkpoint.py:91: UserWarning: None of the inputs have requires_grad=True. Gradients will be None\n",
      "  warnings.warn(\n",
      "`use_cache=True` is incompatible with gradient checkpointing. Setting `use_cache=False`...\n",
      "/root/miniconda3/lib/python3.12/site-packages/torch/utils/checkpoint.py:91: UserWarning: None of the inputs have requires_grad=True. Gradients will be None\n",
      "  warnings.warn(\n",
      "/root/miniconda3/lib/python3.12/site-packages/torch/utils/checkpoint.py:91: UserWarning: None of the inputs have requires_grad=True. Gradients will be None\n",
      "  warnings.warn(\n",
      "/root/miniconda3/lib/python3.12/site-packages/torch/utils/checkpoint.py:91: UserWarning: None of the inputs have requires_grad=True. Gradients will be None\n",
      "  warnings.warn(\n"
     ]
    },
    {
     "data": {
      "text/html": [
       "\n",
       "    <div>\n",
       "      \n",
       "      <progress value='134' max='134' style='width:300px; height:20px; vertical-align: middle;'></progress>\n",
       "      [134/134 18:34, Epoch 1/2]\n",
       "    </div>\n",
       "    <table border=\"1\" class=\"dataframe\">\n",
       "  <thead>\n",
       " <tr style=\"text-align: left;\">\n",
       "      <th>Step</th>\n",
       "      <th>Training Loss</th>\n",
       "    </tr>\n",
       "  </thead>\n",
       "  <tbody>\n",
       "    <tr>\n",
       "      <td>1</td>\n",
       "      <td>1.482700</td>\n",
       "    </tr>\n",
       "    <tr>\n",
       "      <td>10</td>\n",
       "      <td>0.399600</td>\n",
       "    </tr>\n",
       "    <tr>\n",
       "      <td>20</td>\n",
       "      <td>0.003000</td>\n",
       "    </tr>\n",
       "    <tr>\n",
       "      <td>30</td>\n",
       "      <td>0.000400</td>\n",
       "    </tr>\n",
       "    <tr>\n",
       "      <td>40</td>\n",
       "      <td>0.000200</td>\n",
       "    </tr>\n",
       "    <tr>\n",
       "      <td>50</td>\n",
       "      <td>0.000100</td>\n",
       "    </tr>\n",
       "    <tr>\n",
       "      <td>60</td>\n",
       "      <td>0.000100</td>\n",
       "    </tr>\n",
       "    <tr>\n",
       "      <td>70</td>\n",
       "      <td>0.000100</td>\n",
       "    </tr>\n",
       "    <tr>\n",
       "      <td>80</td>\n",
       "      <td>0.000100</td>\n",
       "    </tr>\n",
       "    <tr>\n",
       "      <td>90</td>\n",
       "      <td>0.000100</td>\n",
       "    </tr>\n",
       "    <tr>\n",
       "      <td>100</td>\n",
       "      <td>0.000100</td>\n",
       "    </tr>\n",
       "    <tr>\n",
       "      <td>110</td>\n",
       "      <td>0.000100</td>\n",
       "    </tr>\n",
       "    <tr>\n",
       "      <td>120</td>\n",
       "      <td>0.000100</td>\n",
       "    </tr>\n",
       "    <tr>\n",
       "      <td>130</td>\n",
       "      <td>0.000100</td>\n",
       "    </tr>\n",
       "  </tbody>\n",
       "</table><p>"
      ],
      "text/plain": [
       "<IPython.core.display.HTML object>"
      ]
     },
     "metadata": {},
     "output_type": "display_data"
    },
    {
     "name": "stderr",
     "output_type": "stream",
     "text": [
      "/root/miniconda3/lib/python3.12/site-packages/torch/utils/checkpoint.py:91: UserWarning: None of the inputs have requires_grad=True. Gradients will be None\n",
      "  warnings.warn(\n"
     ]
    },
    {
     "data": {
      "text/plain": [
       "TrainOutput(global_step=134, training_loss=0.03823906746966618, metrics={'train_runtime': 1161.3783, 'train_samples_per_second': 1.86, 'train_steps_per_second': 0.115, 'total_flos': 4362943305351168.0, 'train_loss': 0.03823906746966618, 'epoch': 1.9777777777777779})"
      ]
     },
     "execution_count": 10,
     "metadata": {},
     "output_type": "execute_result"
    }
   ],
   "source": [
    "# 配置Trainer\n",
    "trainer = Trainer(\n",
    "    model=peft_model_7b,\n",
    "    args=args,\n",
    "    train_dataset=train_data,\n",
    "    data_collator=DataCollatorForSeq2Seq(tokenizer=tokenizer, padding=True),\n",
    "    callbacks=[swanlab_callback],\n",
    ")\n",
    "\n",
    "# 开启模型训练\n",
    "trainer.train()"
   ]
  },
  {
   "cell_type": "code",
   "execution_count": 4,
   "metadata": {},
   "outputs": [
    {
     "ename": "NameError",
     "evalue": "name 'model_7b' is not defined",
     "output_type": "error",
     "traceback": [
      "\u001b[0;31m---------------------------------------------------------------------------\u001b[0m",
      "\u001b[0;31mNameError\u001b[0m                                 Traceback (most recent call last)",
      "Cell \u001b[0;32mIn[4], line 15\u001b[0m\n\u001b[1;32m      4\u001b[0m val_config \u001b[38;5;241m=\u001b[39m LoraConfig(\n\u001b[1;32m      5\u001b[0m     task_type\u001b[38;5;241m=\u001b[39mTaskType\u001b[38;5;241m.\u001b[39mCAUSAL_LM,\n\u001b[1;32m      6\u001b[0m     target_modules\u001b[38;5;241m=\u001b[39m[\u001b[38;5;124m\"\u001b[39m\u001b[38;5;124mq_proj\u001b[39m\u001b[38;5;124m\"\u001b[39m, \u001b[38;5;124m\"\u001b[39m\u001b[38;5;124mk_proj\u001b[39m\u001b[38;5;124m\"\u001b[39m, \u001b[38;5;124m\"\u001b[39m\u001b[38;5;124mv_proj\u001b[39m\u001b[38;5;124m\"\u001b[39m, \u001b[38;5;124m\"\u001b[39m\u001b[38;5;124mo_proj\u001b[39m\u001b[38;5;124m\"\u001b[39m, \u001b[38;5;124m\"\u001b[39m\u001b[38;5;124mgate_proj\u001b[39m\u001b[38;5;124m\"\u001b[39m, \u001b[38;5;124m\"\u001b[39m\u001b[38;5;124mup_proj\u001b[39m\u001b[38;5;124m\"\u001b[39m, \u001b[38;5;124m\"\u001b[39m\u001b[38;5;124mdown_proj\u001b[39m\u001b[38;5;124m\"\u001b[39m],\n\u001b[0;32m   (...)\u001b[0m\n\u001b[1;32m     11\u001b[0m     bias\u001b[38;5;241m=\u001b[39m\u001b[38;5;124m\"\u001b[39m\u001b[38;5;124mnone\u001b[39m\u001b[38;5;124m\"\u001b[39m,\n\u001b[1;32m     12\u001b[0m )\n\u001b[1;32m     14\u001b[0m \u001b[38;5;66;03m# 获取测试模型\u001b[39;00m\n\u001b[0;32m---> 15\u001b[0m val_peft_model \u001b[38;5;241m=\u001b[39m PeftModel\u001b[38;5;241m.\u001b[39mfrom_pretrained(\u001b[43mmodel_7b\u001b[49m, model_id\u001b[38;5;241m=\u001b[39m\u001b[38;5;124m\"\u001b[39m\u001b[38;5;124m./output/Qwen2-VL-7B/checkpoint-134\u001b[39m\u001b[38;5;124m\"\u001b[39m, config\u001b[38;5;241m=\u001b[39mval_config)\n",
      "\u001b[0;31mNameError\u001b[0m: name 'model_7b' is not defined"
     ]
    }
   ],
   "source": [
    "from peft import LoraConfig, TaskType, get_peft_model, PeftModel\n",
    "\n",
    "# 配置测试参数\n",
    "val_config = LoraConfig(\n",
    "    task_type=TaskType.CAUSAL_LM,\n",
    "    target_modules=[\"q_proj\", \"k_proj\", \"v_proj\", \"o_proj\", \"gate_proj\", \"up_proj\", \"down_proj\"],\n",
    "    inference_mode=True,  # 训练模式\n",
    "    r=64,  # Lora 秩\n",
    "    lora_alpha=16,\n",
    "    lora_dropout=0.05,  # Dropout 比例\n",
    "    bias=\"none\",\n",
    ")\n",
    "\n",
    "# 获取测试模型\n",
    "val_peft_model = PeftModel.from_pretrained(model_7b, model_id=\"./output/Qwen2-VL-7B/checkpoint-134\", config=val_config)"
   ]
  },
  {
   "cell_type": "code",
   "execution_count": 13,
   "metadata": {},
   "outputs": [],
   "source": [
    "def predict(messages, model):\n",
    "    # 准备推理\n",
    "    text = processor.apply_chat_template(\n",
    "        messages, tokenize=False, add_generation_prompt=True\n",
    "    )\n",
    "    image_inputs, video_inputs = process_vision_info(messages)\n",
    "    inputs = processor(\n",
    "        text=[text],\n",
    "        images=image_inputs,\n",
    "        videos=video_inputs,\n",
    "        padding=True,\n",
    "        return_tensors=\"pt\",\n",
    "    )\n",
    "    inputs = inputs.to(\"cuda\")\n",
    "\n",
    "    # 生成输出\n",
    "    generated_ids = model.generate(**inputs, max_new_tokens=128)\n",
    "    generated_ids_trimmed = [\n",
    "        out_ids[len(in_ids) :] for in_ids, out_ids in zip(inputs.input_ids, generated_ids)\n",
    "    ]\n",
    "    output_text = processor.batch_decode(\n",
    "        generated_ids_trimmed, skip_special_tokens=True, clean_up_tokenization_spaces=False\n",
    "    )\n",
    "    \n",
    "    return output_text[0]"
   ]
  },
  {
   "cell_type": "code",
   "execution_count": null,
   "metadata": {},
   "outputs": [
    {
     "name": "stderr",
     "output_type": "stream",
     "text": [
      "/root/miniconda3/lib/python3.12/site-packages/torch/nn/modules/conv.py:605: UserWarning: Plan failed with a cudnnException: CUDNN_BACKEND_EXECUTION_PLAN_DESCRIPTOR: cudnnFinalize Descriptor Failed cudnn_status: CUDNN_STATUS_NOT_SUPPORTED (Triggered internally at ../aten/src/ATen/native/cudnn/Conv_v8.cpp:919.)\n",
      "  return F.conv3d(\n"
     ]
    },
    {
     "name": "stdout",
     "output_type": "stream",
     "text": [
      "{'role': 'assistant', 'content': '$$x = x_a - x_b$$'}\n",
      "{'role': 'assistant', 'content': '$$a=1...7$$'}\n",
      "{'role': 'assistant', 'content': '$$x+u$$'}\n",
      "{'role': 'assistant', 'content': '$$\\\\sqrt{1 + z^2}$$'}\n",
      "{'role': 'assistant', 'content': '$$C_{t}=K$$'}\n",
      "{'role': 'assistant', 'content': '$$\\\\text{and } \\\\text{one goes down from } m$$'}\n",
      "{'role': 'assistant', 'content': '$$\\\\frac{1}{\\\\epsilon}\\\\int_{-\\\\infty}^{\\\\infty}dz$$'}\n",
      "{'role': 'assistant', 'content': '$$a b - a ^ { - 2 } b ^ { - 2 }$$'}\n",
      "{'role': 'assistant', 'content': '$$b_{m}=\\\\lim _{a\\\\to 0}{\\\\frac {b_{m}-a}{a}}$$'}\n",
      "{'role': 'assistant', 'content': '$$\\\\Delta ^ { \\\\prime } ( m ) = 8 x - \\\\frac { 1 } { 6 } ( m + 1 ) ( m + 2 ) ( m + 3 )$$'}\n",
      "{'role': 'assistant', 'content': '$$\\\\sqrt{\\\\frac{R}{n}}$$'}\n",
      "{'role': 'assistant', 'content': '$$\\\\frac{-4}{\\\\sqrt{360}}$$'}\n",
      "{'role': 'assistant', 'content': '$$\\\\sqrt{-8}$$'}\n",
      "{'role': 'assistant', 'content': '$$\\\\lim_{R \\\\to 0} k^2 G(R) = \\\\infty$$'}\n",
      "{'role': 'assistant', 'content': '$$\\\\int d^dx e(x)$$'}\n",
      "{'role': 'assistant', 'content': '$$c(\\\\omega)=\\\\sum_{n}c_n\\\\omega^{n+1}$$'}\n",
      "{'role': 'assistant', 'content': '$$\\txyt\\t$$'}\n",
      "{'role': 'assistant', 'content': \"$$\\\\tan \\\\alpha \\\\tan \\\\theta' = 1$$\"}\n",
      "{'role': 'assistant', 'content': '$$Z = x^{2 + 2} + i x^{4 + 3}$$'}\n",
      "{'role': 'assistant', 'content': '$$\\\\lim_{p \\\\to \\\\infty} u(|\\\\rho|) = \\\\infty$$'}\n",
      "{'role': 'assistant', 'content': '$$\\\\left(n+1\\\\right)\\\\times \\\\left(n+1\\\\right)\\\\times \\\\ldots \\\\times \\\\left(n+1\\\\right)$$'}\n",
      "{'role': 'assistant', 'content': '$$A=\\\\int d\\\\alpha A(\\\\alpha)\\\\sum_{j}B_{j}(\\\\alpha)B_{j}(\\\\alpha)$$'}\n",
      "{'role': 'assistant', 'content': '$$\\\\sqrt{2+\\\\frac{a^{*}}{x^{4}}}>1$$'}\n",
      "{'role': 'assistant', 'content': '$$0 > n > -1$$'}\n",
      "{'role': 'assistant', 'content': '$$\\\\sin \\\\alpha = 0$$'}\n",
      "{'role': 'assistant', 'content': '$$-2\\\\log \\\\left(\\\\cos \\\\left(\\\\frac{1}{2}mz\\\\right)\\\\right)$$'}\n",
      "{'role': 'assistant', 'content': '$$\\t\\\\sqrt{k}x^2\\t$$'}\n",
      "{'role': 'assistant', 'content': '$$\\\\chi = \\\\chi _ { D } = 2 + \\\\sqrt { 3 }$$'}\n",
      "{'role': 'assistant', 'content': '$$a=3\\\\left(4+\\\\sqrt{10}\\\\right)\\\\sqrt{10}/5+14\\\\sqrt{10}$$'}\n",
      "{'role': 'assistant', 'content': '$$\\\\sin L t$$'}\n",
      "{'role': 'assistant', 'content': '$$8cos\\\\theta$$'}\n",
      "{'role': 'assistant', 'content': '$$\\\\int c_{z}$$'}\n",
      "{'role': 'assistant', 'content': '$$- \\\\frac { 1 } { 2 \\\\sqrt { 3 } }$$'}\n",
      "{'role': 'assistant', 'content': '$$-cos\\\\theta$$'}\n",
      "{'role': 'assistant', 'content': '$$\\\\int_{d_{c}}$$'}\n",
      "{'role': 'assistant', 'content': '$$f(t)=\\\\sum_{n=1}^{\\\\infty}a_{n}t^{n}$$'}\n",
      "{'role': 'assistant', 'content': '$$B=\\\\int_{0}^{\\\\kappa}\\\\mathrm{d}\\\\kappa\\\\int_{\\\\kappa_{a}}^{\\\\kappa}\\\\mathrm{d}\\\\kappa\\\\int_{\\\\kappa_{b}}^{\\\\kappa_{cd}}\\\\mathrm{d}\\\\beta F(\\\\gamma_{3})$$'}\n",
      "{'role': 'assistant', 'content': '$$\\\\Phi(y)=1-\\\\frac{1}{4}y^{2}-\\\\frac{1}{16}y^{4}\\\\log y+...$$'}\n",
      "{'role': 'assistant', 'content': '$$z=x^{8}+ix^{9}$$'}\n",
      "{'role': 'assistant', 'content': '$$\\\\cos ( u )$$'}\n",
      "{'role': 'assistant', 'content': '$$\\\\lim_{x \\\\to \\\\infty} \\\\phi(x) = \\\\phi^0$$'}\n",
      "{'role': 'assistant', 'content': '$$\\\\sin x_{i}, \\\\cos x_{i}$$'}\n",
      "{'role': 'assistant', 'content': '$$x^{2}+y^{2}=n^{2}+\\\\alpha^{2}$$'}\n",
      "{'role': 'assistant', 'content': '$$F = \\\\frac{1}{4} F_{ab} F^{ab}$$'}\n",
      "{'role': 'assistant', 'content': '$$\\\\beta^{m}+\\\\beta^{-m}-2$$'}\n",
      "{'role': 'assistant', 'content': '$$\\\\sqrt{4m}$$'}\n",
      "{'role': 'assistant', 'content': '$$T = \\\\lim_{u \\\\to \\\\infty} u g_u$$'}\n",
      "{'role': 'assistant', 'content': '$$\\t+ \\\\sqrt{\\\\rho - 1} \\t$$'}\n",
      "{'role': 'assistant', 'content': '$$\\\\left( {+ \\\\frac{1}{2} + \\\\frac{1}{2}, + \\\\frac{1}{2}, - \\\\frac{1}{2}, + \\\\frac{1}{2}} \\\\right)$$'}\n",
      "{'role': 'assistant', 'content': '$$\\\\left[ \\\\alpha _ { l } ^ { x } , \\\\alpha _ { l } ^ { y } \\\\right] = \\\\alpha ^ { 2 ( x - y ) }$$'}\n",
      "{'role': 'assistant', 'content': '$$4(n+1)-3n-n=4$$'}\n",
      "{'role': 'assistant', 'content': '$$\\t(-x)^{-a} \\\\log x \\t$$'}\n",
      "{'role': 'assistant', 'content': '$$\\\\sqrt{ab}$$'}\n",
      "{'role': 'assistant', 'content': '$$\\\\int_{a}^{b}dx f(x)e^{inx}$$'}\n",
      "{'role': 'assistant', 'content': '$$\\\\gamma = \\\\tan^2 t$$'}\n",
      "{'role': 'assistant', 'content': '$$\\t(x, y) = M(\\\\cos (\\\\alpha), \\\\sin (\\\\alpha)) \\t$$'}\n",
      "{'role': 'assistant', 'content': '$$\\\\log \\\\sqrt{2} \\\\pi$$'}\n",
      "{'role': 'assistant', 'content': '$$j_2 = -\\\\left(\\\\frac{m}{2}+1\\\\right)-\\\\left(\\\\frac{m}{2}+\\\\frac{1}{2}\\\\right)k^{-2}$$'}\n",
      "{'role': 'assistant', 'content': '$$x^{7}-x^{8}$$'}\n",
      "{'role': 'assistant', 'content': '$$\\\\cos(my)$$'}\n",
      "{'role': 'assistant', 'content': '$$\\\\frac { n } { 2 } + \\\\frac { m } { 2 } b ^ { - 2 }$$'}\n",
      "{'role': 'assistant', 'content': '$$\\\\alpha (1 - \\\\cos r)$$'}\n",
      "{'role': 'assistant', 'content': '$$T(x)=iu\\\\sin(x)$$'}\n",
      "{'role': 'assistant', 'content': '$$x - r$$'}\n",
      "{'role': 'assistant', 'content': '$$\\\\sin ^{2}x$$'}\n",
      "{'role': 'assistant', 'content': '$$2\\\\pi(\\\\sin \\\\theta_{1}+\\\\sin \\\\theta_{2})$$'}\n",
      "{'role': 'assistant', 'content': '$$\\\\left(\\\\frac{\\\\rho\\\\Omega^{-\\\\rho}}{1+\\\\rho}+1\\\\right)$$'}\n",
      "{'role': 'assistant', 'content': '$$a x + b y = 0$$'}\n",
      "{'role': 'assistant', 'content': '$$y^{\\\\prime}=4x^{3}+Ax+B$$'}\n",
      "{'role': 'assistant', 'content': '$$\\\\left(a+b+c\\\\right)$$'}\n",
      "{'role': 'assistant', 'content': '$$n\\\\log n$$'}\n",
      "{'role': 'assistant', 'content': '$$5 - x = 7$$'}\n",
      "{'role': 'assistant', 'content': '$$\\\\frac{646}{9}$$'}\n",
      "{'role': 'assistant', 'content': '$$\\\\beta^{(3)} = - \\\\frac{17}{3} \\\\frac{1}{(4 \\\\pi)^3}$$'}\n",
      "{'role': 'assistant', 'content': '$$\\\\left( xy \\\\right) ^ { - 1 } = y ^ { - 1 } x ^ { - 1 }$$'}\n",
      "{'role': 'assistant', 'content': '$$2 n + 2 - ( n - 1 ) = n + 3$$'}\n",
      "{'role': 'assistant', 'content': '$$f(x) = \\\\alpha_{ab} x^a x^b$$'}\n",
      "{'role': 'assistant', 'content': '$$\\\\tan \\\\theta = f$$'}\n",
      "{'role': 'assistant', 'content': '$$\\\\frac{i}{r+i}=1-\\\\frac{k}{rti}$$'}\n",
      "{'role': 'assistant', 'content': '$$\\\\lambda > 3 \\\\times 2 + 1 = 7$$'}\n",
      "{'role': 'assistant', 'content': '$$\\\\sin \\\\theta _ { 1 } \\\\sin \\\\theta _ { 2 } \\\\sin \\\\theta _ { 3 } \\\\sin \\\\theta _ { 4 }$$'}\n",
      "{'role': 'assistant', 'content': '$$\\\\lim_{z \\\\to \\\\infty} z S(z)$$'}\n",
      "{'role': 'assistant', 'content': '$$\\\\text{for any root}$$'}\n",
      "{'role': 'assistant', 'content': '$$P_{2}(x)=(x-a)(x-b)$$'}\n",
      "{'role': 'assistant', 'content': '$$\\\\Delta y = qy \\\\Delta x$$'}\n",
      "{'role': 'assistant', 'content': '$$\\\\lim_{d \\\\rightarrow \\\\infty} (R_{ab} - \\\\frac{1}{2} R_{a0} d) / (Cd - 2)$$'}\n",
      "{'role': 'assistant', 'content': '$$\\\\beta = c$$'}\n",
      "{'role': 'assistant', 'content': '$$\\\\lim \\\\sqrt{x}$$'}\n",
      "{'role': 'assistant', 'content': '$$\\\\tan \\\\beta = 2$$'}\n",
      "{'role': 'assistant', 'content': '$$\\\\frac{1}{2}n(n+3)+3$$'}\n",
      "{'role': 'assistant', 'content': '$$137 - 3 + 7 + 137 = ( 2 ^ { 3 } - 4 ) + ( 2 ^ { 3 } - 4 ) + ( 2 ^ { 3 } - 4 )$$'}\n",
      "{'role': 'assistant', 'content': '$$\\\\forall i, k$$'}\n",
      "{'role': 'assistant', 'content': '$$\\\\cos f(0)=\\\\cos f(\\\\pi)=\\\\pm1$$'}\n",
      "{'role': 'assistant', 'content': '$$AdS_{3}\\\\times S^{3}\\\\times S^{3}\\\\times S^{1}$$'}\n",
      "{'role': 'assistant', 'content': '$$x^{a} x^{b}$$'}\n",
      "{'role': 'assistant', 'content': '$$\\\\int f(x) \\\\, dx$$'}\n",
      "{'role': 'assistant', 'content': '$$-\\\\sqrt{2}$$'}\n",
      "{'role': 'assistant', 'content': '$$\\\\frac{1}{2} \\\\cos 2 \\\\alpha$$'}\n",
      "{'role': 'assistant', 'content': '$$y = y_b - y_a$$'}\n",
      "{'role': 'assistant', 'content': '$$a = 3 \\\\left( 4 - \\\\sqrt { 1 0 } \\\\right) \\\\sqrt { 5 } / \\\\left( 1 4 0 \\\\sqrt { 1 0 } - 5 \\\\right)$$'}\n",
      "{'role': 'assistant', 'content': '$$\\\\frac{-3}{\\\\sqrt{360}}$$'}\n",
      "{'role': 'assistant', 'content': '$$\\\\left( (a+b+\\\\ldots+c) \\\\right)^{2} \\\\geq a^{2}+b^{2}+\\\\ldots+c^{2}$$'}\n",
      "{'role': 'assistant', 'content': '$$a[3]=\\\\frac{1}{2}a_{2}+a_{3}+\\\\frac{3}{2}$$'}\n",
      "{'role': 'assistant', 'content': '$$\\\\cos ( n z )$$'}\n",
      "{'role': 'assistant', 'content': '$$\\\\lim_{x \\\\rightarrow + \\\\infty} u^{\\\\prime} v^{\\\\prime} = + \\\\infty$$'}\n",
      "{'role': 'assistant', 'content': '$$H_{n}=\\\\sum\\\\limits_{j}a_{j}^{n-1}b_{j}$$'}\n",
      "{'role': 'assistant', 'content': '$$\\\\Sigma_{n}\\\\leq n,\\\\Sigma_{m}\\\\leq m$$'}\n",
      "{'role': 'assistant', 'content': '$$\\\\frac{1}{x + i \\\\alpha}$$'}\n",
      "{'role': 'assistant', 'content': '$$y = \\\\tan ( z )$$'}\n",
      "{'role': 'assistant', 'content': '$$\\\\sin ^{2}u$$'}\n",
      "{'role': 'assistant', 'content': '$$\\\\frac { 1 } { 2 } - \\\\sin ^ { 2 } \\\\alpha$$'}\n",
      "{'role': 'assistant', 'content': '$$a = \\\\sqrt{\\\\frac{1 + \\\\sqrt{1 + 12\\\\varphi}}{6\\\\varphi}}$$'}\n",
      "{'role': 'assistant', 'content': '$$\\tn \\\\times n'}\n",
      "{'role': 'assistant', 'content': '$$\\\\tan \\\\beta = 80$$'}\n",
      "{'role': 'assistant', 'content': '$$\\t(1)+(12)+(11)+(12)+(123) \\t$$'}\n",
      "{'role': 'assistant', 'content': '$$\\\\frac{325}{66}$$'}\n",
      "{'role': 'assistant', 'content': '$$x^{5}-x^{3}$$'}\n",
      "{'role': 'assistant', 'content': '$$\\\\frac{3}{4} = - \\\\frac{1}{2} ( \\\\frac{1}{2} + n )$$'}\n",
      "{'role': 'assistant', 'content': '$$\\\\frac{e}{\\\\sqrt{2 \\\\pi}}$$'}\n",
      "\u001b[1m\u001b[33mswanlab\u001b[0m\u001b[0m: List length 'Prediction' is too long, cut to 108.\n",
      "\u001b[1m\u001b[34mswanlab\u001b[0m\u001b[0m: 🌟 Run `\u001b[1mswanlab watch /root/autodl-tmp/HOCR/finetune/swanlog\u001b[0m` to view SwanLab Experiment Dashboard locally\n",
      "\u001b[1m\u001b[34mswanlab\u001b[0m\u001b[0m: 🏠 View project at \u001b[34m\u001b[4mhttps://swanlab.cn/@Wonster/Qwen2.5-VL-7b-finetune\u001b[0m\u001b[0m\n",
      "\u001b[1m\u001b[34mswanlab\u001b[0m\u001b[0m: 🚀 View run at \u001b[34m\u001b[4mhttps://swanlab.cn/@Wonster/Qwen2.5-VL-7b-finetune/runs/1jxoubmr2r64w1ax2usme\u001b[0m\u001b[0m\n",
      "                                                                                                    \r"
     ]
    }
   ],
   "source": [
    "# 读取测试数据\n",
    "with open(\"ft_data_test.json\", \"r\") as f:\n",
    "    test_dataset = json.load(f)\n",
    "\n",
    "test_image_list = []\n",
    "predict_results = {}\n",
    "for item in test_dataset:\n",
    "    url = item[\"message\"][0][\"conversation\"][0]['url']\n",
    "    # caption = item[\"message\"][0][\"conversation\"][1]['caption']\n",
    "    \n",
    "    messages = [\n",
    "        {\n",
    "            \"role\": \"system\", \n",
    "            \"content\": \"You are a helpful assistant in recognize math equations in either handwritten or printed text.\"\n",
    "        },\n",
    "        {\n",
    "            \"role\": \"user\",\n",
    "            \"content\": [\n",
    "                {\n",
    "                    \"type\": \"text\",\n",
    "                    \"text\": \"Recognize the equation in the image, write its LaTeX code between $$\\t and \\t$$\"\n",
    "                },\n",
    "                {\n",
    "                    \"type\": \"image\",\n",
    "                    \"image\": url,\n",
    "                    \"resized_height\": 280,\n",
    "                    \"resized_width\": 280,\n",
    "                },\n",
    "            ]\n",
    "        }\n",
    "    ]\n",
    "    \n",
    "    response = predict(messages, val_peft_model)\n",
    "    messages.append({\"role\": \"assistant\", \"content\": f\"{response}\"})\n",
    "    print(messages[-1])\n",
    "\n",
    "    predict_results[url] = response\n",
    "\n",
    "    test_image_list.append(swanlab.Image(url, caption=response))\n",
    "\n",
    "swanlab.log({\"Prediction\": test_image_list})\n",
    "\n",
    "# 在Jupyter Notebook中运行时要停止SwanLab记录 需要调用swanlab.finish()\n",
    "swanlab.finish()"
   ]
  },
  {
   "cell_type": "code",
   "execution_count": null,
   "metadata": {},
   "outputs": [],
   "source": [
    "from test_funcs import compute_bleu, compute_exprate\n",
    "\n",
    "compute_bleu(predict_results)\n",
    "compute_exprate(predict_results)"
   ]
  }
 ],
 "metadata": {
  "kernelspec": {
   "display_name": "base",
   "language": "python",
   "name": "python3"
  },
  "language_info": {
   "codemirror_mode": {
    "name": "ipython",
    "version": 3
   },
   "file_extension": ".py",
   "mimetype": "text/x-python",
   "name": "python",
   "nbconvert_exporter": "python",
   "pygments_lexer": "ipython3",
   "version": "3.12.3"
  }
 },
 "nbformat": 4,
 "nbformat_minor": 4
}
