{
 "cells": [
  {
   "cell_type": "code",
   "execution_count": 43,
   "metadata": {},
   "outputs": [],
   "source": [
    "import os\n",
    "from tokenizers import Tokenizer, models, pre_tokenizers, decoders, trainers, processors\n",
    "from tokenizers.models import BPE\n",
    "from tokenizers.trainers import BpeTrainer\n",
    "from tokenizers.pre_tokenizers import Whitespace\n",
    "from tokenizers.normalizers import NFD, StripAccents\n",
    "import pandas as pd\n",
    "\n",
    "import torch"
   ]
  },
  {
   "cell_type": "code",
   "execution_count": 39,
   "metadata": {},
   "outputs": [
    {
     "data": {
      "text/plain": [
       "(['\\\\beta', 'h B', 'p', 'x l', 'm'],\n",
       " ['x = a _ { 0 } + \\\\frac { 1 } { a _ { 1 } + \\\\frac { 1 } { a _ { 2 } + \\\\frac { 1 } { a _ { 3 } + \\\\ldots } } }',\n",
       "  '\\\\frac { \\\\sin x } { x } = \\\\frac { \\\\sin x - \\\\sin 0 } { x - 0 }',\n",
       "  '\\\\alpha ^ { n } + a _ { n - 1 } \\\\alpha ^ { n - 1 } + \\\\ldots + a _ { 1 } \\\\alpha + a _ { 0 } = 0',\n",
       "  '\\\\frac { n _ { 1 } } { a _ { 1 } } - \\\\frac { n _ { 2 } } { a _ { 2 } } = \\\\frac { n _ { 1 } - n _ { 2 } } { c }',\n",
       "  'x _ { 1 } ^ { 2 } + \\\\ldots + x _ { i } ^ { 2 } - x _ { i + 1 } ^ { 2 } - \\\\ldots - x _ { j } ^ { 2 } = x _ { n }'])"
      ]
     },
     "execution_count": 39,
     "metadata": {},
     "output_type": "execute_result"
    }
   ],
   "source": [
    "caption = []\n",
    "with open('dataset/crohme/train/caption.txt', 'r') as f:\n",
    "    data = f.readlines()\n",
    "    for line in data:\n",
    "        line = line.strip()\n",
    "        if '\\t' in line:\n",
    "            _, label = line.split('\\t', 1)  # Split by the first tab\n",
    "        else:\n",
    "            # Skip if improperly formatted\n",
    "            continue\n",
    "        caption.append(label)\n",
    "caption[400:405], caption[-5:]"
   ]
  },
  {
   "cell_type": "code",
   "execution_count": 3,
   "metadata": {},
   "outputs": [
    {
     "data": {
      "text/plain": [
       "['!',\n",
       " '(',\n",
       " ')',\n",
       " '+',\n",
       " ',',\n",
       " '-',\n",
       " '.',\n",
       " '/',\n",
       " '0',\n",
       " '1',\n",
       " '2',\n",
       " '3',\n",
       " '4',\n",
       " '5',\n",
       " '6',\n",
       " '7',\n",
       " '8',\n",
       " '9',\n",
       " '<',\n",
       " '=',\n",
       " '>',\n",
       " 'A',\n",
       " 'B',\n",
       " 'C',\n",
       " 'E',\n",
       " 'F',\n",
       " 'G',\n",
       " 'H',\n",
       " 'I',\n",
       " 'L',\n",
       " 'M',\n",
       " 'N',\n",
       " 'P',\n",
       " 'R',\n",
       " 'S',\n",
       " 'T',\n",
       " 'V',\n",
       " 'X',\n",
       " 'Y',\n",
       " '[',\n",
       " '\\\\Delta',\n",
       " '\\\\Pi',\n",
       " '\\\\alpha',\n",
       " '\\\\beta',\n",
       " '\\\\cdot',\n",
       " '\\\\cdots',\n",
       " '\\\\cos',\n",
       " '\\\\div',\n",
       " '\\\\exists',\n",
       " '\\\\forall',\n",
       " '\\\\frac',\n",
       " '\\\\gamma',\n",
       " '\\\\geq',\n",
       " '\\\\in',\n",
       " '\\\\infty',\n",
       " '\\\\int',\n",
       " '\\\\lambda',\n",
       " '\\\\ldots',\n",
       " '\\\\leq',\n",
       " '\\\\lim',\n",
       " '\\\\limits',\n",
       " '\\\\log',\n",
       " '\\\\mu',\n",
       " '\\\\neq',\n",
       " '\\\\phi',\n",
       " '\\\\pi',\n",
       " '\\\\pm',\n",
       " '\\\\prime',\n",
       " '\\\\rightarrow',\n",
       " '\\\\sigma',\n",
       " '\\\\sin',\n",
       " '\\\\sqrt',\n",
       " '\\\\sum',\n",
       " '\\\\tan',\n",
       " '\\\\theta',\n",
       " '\\\\times',\n",
       " '\\\\{',\n",
       " '\\\\}',\n",
       " ']',\n",
       " 'a',\n",
       " 'b',\n",
       " 'c',\n",
       " 'd',\n",
       " 'e',\n",
       " 'f',\n",
       " 'g',\n",
       " 'h',\n",
       " 'i',\n",
       " 'j',\n",
       " 'k',\n",
       " 'l',\n",
       " 'm',\n",
       " 'n',\n",
       " 'o',\n",
       " 'p',\n",
       " 'q',\n",
       " 'r',\n",
       " 's',\n",
       " 't',\n",
       " 'u',\n",
       " 'v',\n",
       " 'w',\n",
       " 'x',\n",
       " 'y',\n",
       " 'z',\n",
       " '|',\n",
       " '{',\n",
       " '}',\n",
       " '^',\n",
       " '_']"
      ]
     },
     "execution_count": 3,
     "metadata": {},
     "output_type": "execute_result"
    }
   ],
   "source": [
    "dictionary = []\n",
    "with open('dataset/crohme/crohme_dictionary.txt', 'r') as f:\n",
    "    data = f.readlines()\n",
    "    dictionary.extend([line.strip() for line in data])\n",
    "\n",
    "dictionary"
   ]
  },
  {
   "cell_type": "code",
   "execution_count": 33,
   "metadata": {},
   "outputs": [
    {
     "name": "stdout",
     "output_type": "stream",
     "text": [
      "Ignored unknown kwargs option vocab\n",
      "Ignored unknown kwargs option speical_tokens\n",
      "\n",
      "\n",
      "\n"
     ]
    }
   ],
   "source": [
    "tokenizer = Tokenizer(BPE())\n",
    "\n",
    "trainer = BpeTrainer(vocab=dictionary, speical_tokens=['[PAD]', '[UNK]', '[CLS]', '[SEP]', '[MASK]'])\n",
    "tokenizer.pre_tokenizer = pre_tokenizers.Sequence([Whitespace()])\n",
    "tokenizer.train_from_iterator(caption, trainer=trainer)\n",
    "\n",
    "tokenizer.save('dataset/crohme/train/custom_tokenizer.json')"
   ]
  },
  {
   "cell_type": "code",
   "execution_count": 19,
   "metadata": {},
   "outputs": [
    {
     "data": {
      "text/plain": [
       "{'!': 0,\n",
       " '(': 1,\n",
       " ')': 2,\n",
       " '+': 3,\n",
       " ',': 4,\n",
       " '-': 5,\n",
       " '.': 6,\n",
       " '/': 7,\n",
       " '0': 8,\n",
       " '1': 9,\n",
       " '2': 10,\n",
       " '3': 11,\n",
       " '4': 12,\n",
       " '5': 13,\n",
       " '6': 14,\n",
       " '7': 15,\n",
       " '8': 16,\n",
       " '9': 17,\n",
       " '<': 18,\n",
       " '=': 19,\n",
       " '>': 20,\n",
       " 'A': 21,\n",
       " 'B': 22,\n",
       " 'C': 23,\n",
       " 'D': 24,\n",
       " 'E': 25,\n",
       " 'F': 26,\n",
       " 'G': 27,\n",
       " 'H': 28,\n",
       " 'I': 29,\n",
       " 'L': 30,\n",
       " 'M': 31,\n",
       " 'N': 32,\n",
       " 'P': 33,\n",
       " 'R': 34,\n",
       " 'S': 35,\n",
       " 'T': 36,\n",
       " 'V': 37,\n",
       " 'X': 38,\n",
       " 'Y': 39,\n",
       " '[': 40,\n",
       " '\\\\': 41,\n",
       " ']': 42,\n",
       " '^': 43,\n",
       " '_': 44,\n",
       " 'a': 45,\n",
       " 'b': 46,\n",
       " 'c': 47,\n",
       " 'd': 48,\n",
       " 'e': 49,\n",
       " 'f': 50,\n",
       " 'g': 51,\n",
       " 'h': 52,\n",
       " 'i': 53,\n",
       " 'j': 54,\n",
       " 'k': 55,\n",
       " 'l': 56,\n",
       " 'm': 57,\n",
       " 'n': 58,\n",
       " 'o': 59,\n",
       " 'p': 60,\n",
       " 'q': 61,\n",
       " 'r': 62,\n",
       " 's': 63,\n",
       " 't': 64,\n",
       " 'u': 65,\n",
       " 'v': 66,\n",
       " 'w': 67,\n",
       " 'x': 68,\n",
       " 'y': 69,\n",
       " 'z': 70,\n",
       " '{': 71,\n",
       " '|': 72,\n",
       " '}': 73,\n",
       " 'ra': 74,\n",
       " 'fra': 75,\n",
       " 'frac': 76,\n",
       " 'im': 77,\n",
       " 'qr': 78,\n",
       " 'sqr': 79,\n",
       " 'sqrt': 80,\n",
       " 'in': 81,\n",
       " 'ta': 82,\n",
       " 'lim': 83,\n",
       " 'ts': 84,\n",
       " 'its': 85,\n",
       " 'limits': 86,\n",
       " 'eta': 87,\n",
       " 'sin': 88,\n",
       " 'ime': 89,\n",
       " 'su': 90,\n",
       " 'sum': 91,\n",
       " 'int': 92,\n",
       " 'time': 93,\n",
       " 'times': 94,\n",
       " 'co': 95,\n",
       " 'cos': 96,\n",
       " 'heta': 97,\n",
       " 'theta': 98,\n",
       " 'pi': 99,\n",
       " 'eq': 100,\n",
       " 'ph': 101,\n",
       " 'do': 102,\n",
       " 'al': 103,\n",
       " 'pha': 104,\n",
       " 'alpha': 105,\n",
       " 'ft': 106,\n",
       " 'inft': 107,\n",
       " 'infty': 108,\n",
       " 'ig': 109,\n",
       " 'hta': 110,\n",
       " 'ow': 111,\n",
       " 'rr': 112,\n",
       " 'rig': 113,\n",
       " 'htarr': 114,\n",
       " 'rightarr': 115,\n",
       " 'rightarrow': 116,\n",
       " 'lo': 117,\n",
       " 'log': 118,\n",
       " 'beta': 119,\n",
       " 'cdo': 120,\n",
       " 'tan': 121,\n",
       " 'leq': 122,\n",
       " 'pm': 123,\n",
       " 'di': 124,\n",
       " 'div': 125,\n",
       " 'cdots': 126,\n",
       " 'geq': 127,\n",
       " 'cdot': 128,\n",
       " 'ma': 129,\n",
       " 'am': 130,\n",
       " 'neq': 131,\n",
       " 'ldo': 132,\n",
       " 'ldots': 133,\n",
       " 'gam': 134,\n",
       " 'gamma': 135,\n",
       " 'phi': 136,\n",
       " 'pr': 137,\n",
       " 'prime': 138,\n",
       " '\\\\{': 139,\n",
       " '\\\\}': 140,\n",
       " 'sig': 141,\n",
       " 'sigma': 142,\n",
       " 'mu': 143,\n",
       " 'De': 144,\n",
       " 'lta': 145,\n",
       " 'Delta': 146,\n",
       " 'bd': 147,\n",
       " 'lam': 148,\n",
       " 'bda': 149,\n",
       " 'lambda': 150,\n",
       " 'fo': 151,\n",
       " 'll': 152,\n",
       " 'rall': 153,\n",
       " 'forall': 154,\n",
       " 'ex': 155,\n",
       " 'is': 156,\n",
       " 'exis': 157,\n",
       " 'exists': 158}"
      ]
     },
     "execution_count": 19,
     "metadata": {},
     "output_type": "execute_result"
    }
   ],
   "source": [
    "# type(tokenizer.get_vocab())\n",
    "dict(sorted(tokenizer.get_vocab().items(), key=lambda item: item[1]))"
   ]
  },
  {
   "cell_type": "code",
   "execution_count": 32,
   "metadata": {},
   "outputs": [
    {
     "name": "stdout",
     "output_type": "stream",
     "text": [
      "Vocabulary size: 159\n"
     ]
    },
    {
     "data": {
      "text/plain": [
       "'\\\\ sqrt'"
      ]
     },
     "execution_count": 32,
     "metadata": {},
     "output_type": "execute_result"
    }
   ],
   "source": [
    "print(f\"Vocabulary size: {tokenizer.get_vocab_size()}\")\n",
    "# print(f\"Token for '{chr(92)}frac': {tokenizer.token_to_id(f'{chr(92)}frac')}\")\n",
    "tokenizer.decode(tokenizer.encode('\\\\sqrt').ids)  # '\\\\ sqrt'"
   ]
  },
  {
   "cell_type": "code",
   "execution_count": 44,
   "metadata": {},
   "outputs": [
    {
     "data": {
      "text/plain": [
       "tensor([41, 96, 68,  3, 53, 41, 88, 68, 19, 49, 43, 71, 53, 68, 73])"
      ]
     },
     "execution_count": 44,
     "metadata": {},
     "output_type": "execute_result"
    }
   ],
   "source": [
    "torch.tensor(tokenizer.encode('\\cos x + i \\sin x = e ^ { i x }').ids, dtype=torch.long)"
   ]
  },
  {
   "cell_type": "code",
   "execution_count": 42,
   "metadata": {},
   "outputs": [
    {
     "data": {
      "text/plain": [
       "[41,\n",
       " 76,\n",
       " 71,\n",
       " 41,\n",
       " 88,\n",
       " 68,\n",
       " 73,\n",
       " 71,\n",
       " 68,\n",
       " 73,\n",
       " 19,\n",
       " 41,\n",
       " 76,\n",
       " 71,\n",
       " 41,\n",
       " 88,\n",
       " 68,\n",
       " 5,\n",
       " 41,\n",
       " 88,\n",
       " 8,\n",
       " 73,\n",
       " 71,\n",
       " 68,\n",
       " 5,\n",
       " 8,\n",
       " 73]"
      ]
     },
     "execution_count": 42,
     "metadata": {},
     "output_type": "execute_result"
    }
   ],
   "source": [
    "tokenizer.encode('\\\\frac { \\\\sin x } { x } = \\\\frac { \\\\sin x - \\\\sin 0 } { x - 0 }').ids"
   ]
  },
  {
   "cell_type": "code",
   "execution_count": null,
   "metadata": {},
   "outputs": [],
   "source": []
  }
 ],
 "metadata": {
  "kernelspec": {
   "display_name": "Python 3",
   "language": "python",
   "name": "python3"
  },
  "language_info": {
   "codemirror_mode": {
    "name": "ipython",
    "version": 3
   },
   "file_extension": ".py",
   "mimetype": "text/x-python",
   "name": "python",
   "nbconvert_exporter": "python",
   "pygments_lexer": "ipython3",
   "version": "3.11.6"
  }
 },
 "nbformat": 4,
 "nbformat_minor": 2
}
